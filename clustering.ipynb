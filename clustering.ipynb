{
 "cells": [
  {
   "cell_type": "markdown",
   "metadata": {},
   "source": [
    "# Text similarity measurement using bag of words technique"
   ]
  },
  {
   "cell_type": "code",
   "execution_count": 96,
   "metadata": {},
   "outputs": [],
   "source": [
    "from sklearn.feature_extraction.text import CountVectorizer\n",
    "import scipy as sp\n",
    "import os"
   ]
  },
  {
   "cell_type": "code",
   "execution_count": 97,
   "metadata": {},
   "outputs": [],
   "source": [
    "content = [open(os.path.join(r'C:\\Users\\Preeti Saraswat\\Documents\\post', f)).read() for f in\n",
    "os.listdir(r'C:\\Users\\Preeti Saraswat\\Documents\\post')]"
   ]
  },
  {
   "cell_type": "code",
   "execution_count": 98,
   "metadata": {},
   "outputs": [],
   "source": [
    "vectoriser=CountVectorizer(min_df=1)   #vectorizer to tokenise the bag of words,minimum document frequency of occurance"
   ]
  },
  {
   "cell_type": "code",
   "execution_count": 99,
   "metadata": {},
   "outputs": [],
   "source": [
    "X_train=vectoriser.fit_transform(content)    #vectorising content"
   ]
  },
  {
   "cell_type": "code",
   "execution_count": 100,
   "metadata": {},
   "outputs": [],
   "source": [
    "n_samples,n_features=X_train.shape         "
   ]
  },
  {
   "cell_type": "code",
   "execution_count": 101,
   "metadata": {},
   "outputs": [
    {
     "name": "stdout",
     "output_type": "stream",
     "text": [
      "3 12\n"
     ]
    }
   ],
   "source": [
    "print (n_samples,n_features)"
   ]
  },
  {
   "cell_type": "code",
   "execution_count": 102,
   "metadata": {},
   "outputs": [
    {
     "name": "stdout",
     "output_type": "stream",
     "text": [
      "['and', 'clustering', 'how', 'in', 'includes', 'is', 'learning', 'machine', 'regression', 'techniques', 'this', 'works']\n"
     ]
    }
   ],
   "source": [
    "print(vectoriser.get_feature_names())"
   ]
  },
  {
   "cell_type": "code",
   "execution_count": 103,
   "metadata": {},
   "outputs": [],
   "source": [
    "new_content=['Machine Learning clustering']"
   ]
  },
  {
   "cell_type": "code",
   "execution_count": 104,
   "metadata": {},
   "outputs": [
    {
     "data": {
      "text/plain": [
       "(1, 12)"
      ]
     },
     "execution_count": 104,
     "metadata": {},
     "output_type": "execute_result"
    }
   ],
   "source": [
    "#now to calculate similarity we euclidean distance between new and old post vector\n",
    "new_Vect_content=vectoriser.transform(new_content) #transform method returns sparse matrix\n",
    "new_Vect_content.shape\n"
   ]
  },
  {
   "cell_type": "code",
   "execution_count": 105,
   "metadata": {},
   "outputs": [
    {
     "name": "stdout",
     "output_type": "stream",
     "text": [
      "[[0 1 0 0 0 0 1 1 0 0 0 0]]\n"
     ]
    }
   ],
   "source": [
    "#to generate whole ndarray again we use toarray method()\n",
    "print(new_Vect_content.toarray())"
   ]
  },
  {
   "cell_type": "code",
   "execution_count": 106,
   "metadata": {},
   "outputs": [],
   "source": [
    "def euc_dist(v1,v2):\n",
    "    v=v1-v2\n",
    "    return sp.linalg.norm(v.toarray()) #norm takes a vector/matrix as input and return an scaler as an answer"
   ]
  },
  {
   "cell_type": "code",
   "execution_count": 109,
   "metadata": {},
   "outputs": [
    {
     "name": "stdout",
     "output_type": "stream",
     "text": [
      "Post 0 with dist=1.41: This is machine learning clustering\n",
      "Post 1 with dist=1.73: How clustering works in Machine learning\n",
      "Post 2 with dist=2.00: Machine learning includes clustering and regression techniques\n",
      "Best post is 0 with dist= 0.00 \n"
     ]
    }
   ],
   "source": [
    "#now we need to itirate over all the vectors and find out the nearest one\n",
    "import sys\n",
    "best_dist=sys.maxsize\n",
    "best_i = 0.0\n",
    "best_dist=0.0\n",
    "for i in range(0, n_samples):\n",
    "    contents=content[i]\n",
    "    if contents==new_content:\n",
    "        continue\n",
    "    content_vect=X_train.getrow(i)\n",
    "    d=euc_dist(content_vect,new_Vect_content)\n",
    "    print (\"Post %i with dist=%.2f: %s\"%(i, d, content[i]))\n",
    "    if d<best_dist:\n",
    "        best_dist = d\n",
    "        best_i = i\n",
    "print(\"Best post is %d with dist= %.2f \"%(best_i,best_dist))"
   ]
  },
  {
   "cell_type": "code",
   "execution_count": null,
   "metadata": {},
   "outputs": [],
   "source": []
  }
 ],
 "metadata": {
  "kernelspec": {
   "display_name": "Python 3",
   "language": "python",
   "name": "python3"
  },
  "language_info": {
   "codemirror_mode": {
    "name": "ipython",
    "version": 3
   },
   "file_extension": ".py",
   "mimetype": "text/x-python",
   "name": "python",
   "nbconvert_exporter": "python",
   "pygments_lexer": "ipython3",
   "version": "3.5.2"
  }
 },
 "nbformat": 4,
 "nbformat_minor": 2
}
